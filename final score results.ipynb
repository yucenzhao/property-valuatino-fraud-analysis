{
 "cells": [
  {
   "cell_type": "code",
   "execution_count": 1,
   "metadata": {},
   "outputs": [],
   "source": [
    "import pandas as pd\n",
    "final = pd.read_csv('final score.csv')"
   ]
  },
  {
   "cell_type": "code",
   "execution_count": 20,
   "metadata": {},
   "outputs": [
    {
     "data": {
      "text/html": [
       "<div>\n",
       "<style scoped>\n",
       "    .dataframe tbody tr th:only-of-type {\n",
       "        vertical-align: middle;\n",
       "    }\n",
       "\n",
       "    .dataframe tbody tr th {\n",
       "        vertical-align: top;\n",
       "    }\n",
       "\n",
       "    .dataframe thead th {\n",
       "        text-align: right;\n",
       "    }\n",
       "</style>\n",
       "<table border=\"1\" class=\"dataframe\">\n",
       "  <thead>\n",
       "    <tr style=\"text-align: right;\">\n",
       "      <th></th>\n",
       "      <th>Unnamed: 0</th>\n",
       "      <th>mht</th>\n",
       "      <th>eld</th>\n",
       "      <th>mhtS2</th>\n",
       "      <th>eldS2</th>\n",
       "      <th>final</th>\n",
       "    </tr>\n",
       "  </thead>\n",
       "  <tbody>\n",
       "    <tr>\n",
       "      <th>0</th>\n",
       "      <td>632815</td>\n",
       "      <td>2499.175043</td>\n",
       "      <td>1022.232337</td>\n",
       "      <td>16066.887695</td>\n",
       "      <td>3276.122940</td>\n",
       "      <td>5212.717573</td>\n",
       "    </tr>\n",
       "    <tr>\n",
       "      <th>1</th>\n",
       "      <td>565391</td>\n",
       "      <td>1821.355948</td>\n",
       "      <td>807.135118</td>\n",
       "      <td>10417.962578</td>\n",
       "      <td>2134.806164</td>\n",
       "      <td>3540.677274</td>\n",
       "    </tr>\n",
       "    <tr>\n",
       "      <th>2</th>\n",
       "      <td>1067359</td>\n",
       "      <td>1649.452235</td>\n",
       "      <td>821.811779</td>\n",
       "      <td>8750.338845</td>\n",
       "      <td>2273.339823</td>\n",
       "      <td>3069.629557</td>\n",
       "    </tr>\n",
       "    <tr>\n",
       "      <th>3</th>\n",
       "      <td>67128</td>\n",
       "      <td>1275.628920</td>\n",
       "      <td>627.048652</td>\n",
       "      <td>5054.072973</td>\n",
       "      <td>1160.975799</td>\n",
       "      <td>2031.317731</td>\n",
       "    </tr>\n",
       "    <tr>\n",
       "      <th>4</th>\n",
       "      <td>585117</td>\n",
       "      <td>1320.226676</td>\n",
       "      <td>616.176703</td>\n",
       "      <td>4304.025181</td>\n",
       "      <td>1122.877206</td>\n",
       "      <td>1916.986377</td>\n",
       "    </tr>\n",
       "    <tr>\n",
       "      <th>5</th>\n",
       "      <td>776305</td>\n",
       "      <td>1289.394522</td>\n",
       "      <td>535.530583</td>\n",
       "      <td>4248.801793</td>\n",
       "      <td>1311.834642</td>\n",
       "      <td>1881.275976</td>\n",
       "    </tr>\n",
       "    <tr>\n",
       "      <th>6</th>\n",
       "      <td>585438</td>\n",
       "      <td>1131.195974</td>\n",
       "      <td>520.309947</td>\n",
       "      <td>3542.371420</td>\n",
       "      <td>967.416253</td>\n",
       "      <td>1613.431063</td>\n",
       "    </tr>\n",
       "    <tr>\n",
       "      <th>7</th>\n",
       "      <td>918203</td>\n",
       "      <td>958.797597</td>\n",
       "      <td>384.093816</td>\n",
       "      <td>4184.254492</td>\n",
       "      <td>952.947393</td>\n",
       "      <td>1603.888976</td>\n",
       "    </tr>\n",
       "    <tr>\n",
       "      <th>8</th>\n",
       "      <td>85885</td>\n",
       "      <td>977.153320</td>\n",
       "      <td>395.747138</td>\n",
       "      <td>3764.131932</td>\n",
       "      <td>901.089053</td>\n",
       "      <td>1534.549043</td>\n",
       "    </tr>\n",
       "    <tr>\n",
       "      <th>9</th>\n",
       "      <td>920627</td>\n",
       "      <td>931.742096</td>\n",
       "      <td>424.015276</td>\n",
       "      <td>3115.140396</td>\n",
       "      <td>876.175128</td>\n",
       "      <td>1368.421756</td>\n",
       "    </tr>\n",
       "    <tr>\n",
       "      <th>10</th>\n",
       "      <td>918204</td>\n",
       "      <td>723.026603</td>\n",
       "      <td>289.838045</td>\n",
       "      <td>3170.742988</td>\n",
       "      <td>719.371744</td>\n",
       "      <td>1212.569880</td>\n",
       "    </tr>\n",
       "    <tr>\n",
       "      <th>11</th>\n",
       "      <td>585119</td>\n",
       "      <td>824.851827</td>\n",
       "      <td>385.016836</td>\n",
       "      <td>2678.649524</td>\n",
       "      <td>700.095303</td>\n",
       "      <td>1195.611366</td>\n",
       "    </tr>\n",
       "    <tr>\n",
       "      <th>12</th>\n",
       "      <td>293329</td>\n",
       "      <td>771.747353</td>\n",
       "      <td>322.695002</td>\n",
       "      <td>2838.751246</td>\n",
       "      <td>659.948627</td>\n",
       "      <td>1185.148132</td>\n",
       "    </tr>\n",
       "    <tr>\n",
       "      <th>13</th>\n",
       "      <td>935157</td>\n",
       "      <td>688.269367</td>\n",
       "      <td>290.139893</td>\n",
       "      <td>2966.598770</td>\n",
       "      <td>690.683853</td>\n",
       "      <td>1143.935248</td>\n",
       "    </tr>\n",
       "    <tr>\n",
       "      <th>14</th>\n",
       "      <td>1067000</td>\n",
       "      <td>676.952416</td>\n",
       "      <td>288.271608</td>\n",
       "      <td>2869.361606</td>\n",
       "      <td>689.326451</td>\n",
       "      <td>1115.434254</td>\n",
       "    </tr>\n",
       "  </tbody>\n",
       "</table>\n",
       "</div>"
      ],
      "text/plain": [
       "    Unnamed: 0          mht          eld         mhtS2        eldS2  \\\n",
       "0       632815  2499.175043  1022.232337  16066.887695  3276.122940   \n",
       "1       565391  1821.355948   807.135118  10417.962578  2134.806164   \n",
       "2      1067359  1649.452235   821.811779   8750.338845  2273.339823   \n",
       "3        67128  1275.628920   627.048652   5054.072973  1160.975799   \n",
       "4       585117  1320.226676   616.176703   4304.025181  1122.877206   \n",
       "5       776305  1289.394522   535.530583   4248.801793  1311.834642   \n",
       "6       585438  1131.195974   520.309947   3542.371420   967.416253   \n",
       "7       918203   958.797597   384.093816   4184.254492   952.947393   \n",
       "8        85885   977.153320   395.747138   3764.131932   901.089053   \n",
       "9       920627   931.742096   424.015276   3115.140396   876.175128   \n",
       "10      918204   723.026603   289.838045   3170.742988   719.371744   \n",
       "11      585119   824.851827   385.016836   2678.649524   700.095303   \n",
       "12      293329   771.747353   322.695002   2838.751246   659.948627   \n",
       "13      935157   688.269367   290.139893   2966.598770   690.683853   \n",
       "14     1067000   676.952416   288.271608   2869.361606   689.326451   \n",
       "\n",
       "          final  \n",
       "0   5212.717573  \n",
       "1   3540.677274  \n",
       "2   3069.629557  \n",
       "3   2031.317731  \n",
       "4   1916.986377  \n",
       "5   1881.275976  \n",
       "6   1613.431063  \n",
       "7   1603.888976  \n",
       "8   1534.549043  \n",
       "9   1368.421756  \n",
       "10  1212.569880  \n",
       "11  1195.611366  \n",
       "12  1185.148132  \n",
       "13  1143.935248  \n",
       "14  1115.434254  "
      ]
     },
     "execution_count": 20,
     "metadata": {},
     "output_type": "execute_result"
    }
   ],
   "source": [
    "final.head(15)"
   ]
  },
  {
   "cell_type": "code",
   "execution_count": 27,
   "metadata": {},
   "outputs": [],
   "source": [
    "mht=final.sort_values(by='mht', ascending=False, na_position='first').head(10)\n",
    "mht.to_csv('mht.csv')\n",
    "mhts2=final.sort_values(by='mhtS2', ascending=False, na_position='first').head(10)\n",
    "mhts2.to_csv('mhts2.csv')"
   ]
  },
  {
   "cell_type": "code",
   "execution_count": 28,
   "metadata": {},
   "outputs": [],
   "source": [
    "final10=final.sort_values(by='final', ascending=False, na_position='first').head(10)\n",
    "final10.to_csv('final10.csv')"
   ]
  },
  {
   "cell_type": "code",
   "execution_count": 32,
   "metadata": {},
   "outputs": [
    {
     "data": {
      "image/png": "[encoded data removed]",
      "text/plain": [
       "<Figure size 432x288 with 1 Axes>"
      ]
     },
     "metadata": {
      "needs_background": "light"
     },
     "output_type": "display_data"
    }
   ],
   "source": [
    "import pandas as pd\n",
    "import numpy as np\n",
    "import scipy.stats as sps \n",
    "import matplotlib.pyplot as plt \n",
    "import seaborn as sns\n",
    "import sklearn as skl\n",
    "from sklearn import preprocessing \n",
    "%matplotlib inline \n",
    "plot = sns.distplot(final['mht'], bins=100,kde=True)\n",
    "plot.set(xlabel='S1')\n",
    "plot.set_title('S1 distribution')\n",
    "plt.savefig('S1.png')"
   ]
  },
  {
   "cell_type": "code",
   "execution_count": 4,
   "metadata": {},
   "outputs": [
    {
     "data": {
      "image/png": "[encoded data removed]",
      "text/plain": [
       "<Figure size 432x288 with 1 Axes>"
      ]
     },
     "metadata": {
      "needs_background": "light"
     },
     "output_type": "display_data"
    }
   ],
   "source": [
    "xhigh = 100\n",
    "plt.xlim(0,xhigh)\n",
    "temp = final[final['mht'] <= xhigh] \n",
    "plot = sns.distplot(temp['mht'],kde=True).set(xlabel='S1')\n",
    "plot.set_title('S1 distribution([0,100])')\n",
    "plt.savefig('S1[0,100].png')"
   ]
  },
  {
   "cell_type": "code",
   "execution_count": 5,
   "metadata": {},
   "outputs": [
    {
     "data": {
      "image/png": "[encoded data removed]",
      "text/plain": [
       "<Figure size 432x288 with 1 Axes>"
      ]
     },
     "metadata": {
      "needs_background": "light"
     },
     "output_type": "display_data"
    }
   ],
   "source": [
    "xhigh = 1\n",
    "plt.xlim(0,xhigh)\n",
    "temp = final[final['mht'] <= xhigh] \n",
    "plot = sns.distplot(temp['mht'],kde=True)\n",
    "plot.set_title('S1 distribution([0,1])')\n",
    "plt.savefig('S1[0,1].png')"
   ]
  },
  {
   "cell_type": "code",
   "execution_count": 6,
   "metadata": {},
   "outputs": [
    {
     "data": {
      "image/png": "[encoded data removed]",
      "text/plain": [
       "<Figure size 432x288 with 1 Axes>"
      ]
     },
     "metadata": {
      "needs_background": "light"
     },
     "output_type": "display_data"
    }
   ],
   "source": [
    "xlow = 100\n",
    "plt.xlim(xlow,2500)\n",
    "temp = final[final['mht'] >= xlow] \n",
    "plot = sns.distplot(temp['mht'],kde=True)\n",
    "plot.set_title('S1 distribution([100,2500])')\n",
    "plt.savefig('S1[100,2500].png')"
   ]
  },
  {
   "cell_type": "code",
   "execution_count": 7,
   "metadata": {},
   "outputs": [
    {
     "data": {
      "image/png": "[encoded data removed]",
      "text/plain": [
       "<Figure size 432x288 with 1 Axes>"
      ]
     },
     "metadata": {
      "needs_background": "light"
     },
     "output_type": "display_data"
    }
   ],
   "source": [
    "xlow = 1\n",
    "plt.xlim(xlow,2500)\n",
    "temp = final[final['mht'] >= xlow] \n",
    "plot = sns.distplot(temp['mht'],kde=True)\n",
    "plot.set_title('S1 distribution([1,2500])')\n",
    "plt.savefig('S1[1,2500].png')"
   ]
  },
  {
   "cell_type": "code",
   "execution_count": 31,
   "metadata": {},
   "outputs": [
    {
     "data": {
      "image/png": "[encoded data removed]",
      "text/plain": [
       "<Figure size 432x288 with 1 Axes>"
      ]
     },
     "metadata": {
      "needs_background": "light"
     },
     "output_type": "display_data"
    }
   ],
   "source": [
    "xhigh = 500\n",
    "plt.xlim(0,xhigh)\n",
    "temp = final[final['mht'] <= xhigh] \n",
    "plot = sns.distplot(temp['mht'],kde=True)\n",
    "plot.set_title('S1 distribution([0,500])')\n",
    "plot.set(xlabel='S1')\n",
    "plt.savefig('S1[0,500].png')"
   ]
  },
  {
   "cell_type": "code",
   "execution_count": 33,
   "metadata": {},
   "outputs": [
    {
     "data": {
      "image/png": "[encoded data removed]",
      "text/plain": [
       "<Figure size 432x288 with 1 Axes>"
      ]
     },
     "metadata": {
      "needs_background": "light"
     },
     "output_type": "display_data"
    }
   ],
   "source": [
    "xlow = 500\n",
    "plt.xlim(xlow,2500)\n",
    "temp = final[final['mht'] >= xlow] \n",
    "plot = sns.distplot(temp['mht'],kde=True)\n",
    "plot.set(xlabel='S1')\n",
    "plot.set_title('S1 distribution([500,2500])')\n",
    "plt.savefig('S1[500,2500].png')"
   ]
  },
  {
   "cell_type": "code",
   "execution_count": 34,
   "metadata": {},
   "outputs": [
    {
     "data": {
      "image/png": "[encoded data removed]",
      "text/plain": [
       "<Figure size 432x288 with 1 Axes>"
      ]
     },
     "metadata": {
      "needs_background": "light"
     },
     "output_type": "display_data"
    }
   ],
   "source": [
    "plot = sns.distplot(final['mhtS2'], bins=100,kde=True)\n",
    "plot.set_title('S2 distribution')\n",
    "plot.set(xlabel='S2')\n",
    "plt.savefig('S2.png')"
   ]
  },
  {
   "cell_type": "code",
   "execution_count": 35,
   "metadata": {},
   "outputs": [
    {
     "data": {
      "image/png": "[encoded data removed]",
      "text/plain": [
       "<Figure size 432x288 with 1 Axes>"
      ]
     },
     "metadata": {
      "needs_background": "light"
     },
     "output_type": "display_data"
    }
   ],
   "source": [
    "xhigh = 2000\n",
    "plt.xlim(0,xhigh)\n",
    "temp = final[final['mhtS2'] <= xhigh] \n",
    "plot = sns.distplot(temp['mhtS2'],kde=True)\n",
    "plot.set(xlabel='S2')\n",
    "plot.set_title('S2 distribution([0,2000])')\n",
    "plt.savefig('S2[0,2000].png')"
   ]
  },
  {
   "cell_type": "code",
   "execution_count": 36,
   "metadata": {},
   "outputs": [
    {
     "data": {
      "image/png": "[encoded data removed]",
      "text/plain": [
       "<Figure size 432x288 with 1 Axes>"
      ]
     },
     "metadata": {
      "needs_background": "light"
     },
     "output_type": "display_data"
    }
   ],
   "source": [
    "xlow = 2000\n",
    "plt.xlim(xlow,17000)\n",
    "temp = final[final['mhtS2'] >= xlow] \n",
    "plot = sns.distplot(temp['mhtS2'],kde=True)\n",
    "plot.set(xlabel='S2')\n",
    "plot.set_title('S2 distribution([2000,17000])')\n",
    "plt.savefig('S2[2000,17000].png')"
   ]
  },
  {
   "cell_type": "code",
   "execution_count": 37,
   "metadata": {},
   "outputs": [
    {
     "data": {
      "image/png": "[encoded data removed]",
      "text/plain": [
       "<Figure size 432x288 with 1 Axes>"
      ]
     },
     "metadata": {
      "needs_background": "light"
     },
     "output_type": "display_data"
    }
   ],
   "source": [
    "plot = sns.distplot(final['final'], bins=100,kde=True)\n",
    "plot.set_title('final score distribution')\n",
    "plot.set(xlabel='final score')\n",
    "plt.savefig('final score.png')"
   ]
  },
  {
   "cell_type": "code",
   "execution_count": 38,
   "metadata": {},
   "outputs": [
    {
     "data": {
      "image/png": "[encoded data removed]",
      "text/plain": [
       "<Figure size 432x288 with 1 Axes>"
      ]
     },
     "metadata": {
      "needs_background": "light"
     },
     "output_type": "display_data"
    }
   ],
   "source": [
    "xhigh = 1000\n",
    "plt.xlim(0,xhigh)\n",
    "temp = final[final['final'] <= xhigh] \n",
    "plot = sns.distplot(temp['final'],kde=True)\n",
    "plot.set_title('final score distribution([0,1000])')\n",
    "plot.set(xlabel='final score')\n",
    "plt.savefig('final[0,1000].png')"
   ]
  },
  {
   "cell_type": "code",
   "execution_count": 39,
   "metadata": {},
   "outputs": [
    {
     "data": {
      "image/png": "[encoded data removed]",
      "text/plain": [
       "<Figure size 432x288 with 1 Axes>"
      ]
     },
     "metadata": {
      "needs_background": "light"
     },
     "output_type": "display_data"
    }
   ],
   "source": [
    "xlow = 1000\n",
    "plt.xlim(xlow,5300)\n",
    "temp = final[final['final'] >= xlow] \n",
    "plot = sns.distplot(temp['final'],kde=True)\n",
    "plot.set_title('final score distribution([1000,5300])')\n",
    "plot.set(xlabel='final score')\n",
    "plt.savefig('final[1000,5300].png')"
   ]
  },
  {
   "cell_type": "code",
   "execution_count": 52,
   "metadata": {},
   "outputs": [
    {
     "name": "stderr",
     "output_type": "stream",
     "text": [
      "<string>:2: DtypeWarning: Columns (3,7,10,23) have mixed types. Specify dtype option on import or set low_memory=False.\n"
     ]
    },
    {
     "name": "stdout",
     "output_type": "stream",
     "text": [
      "CPU times: user 31.4 s, sys: 3.88 s, total: 35.2 s\n",
      "Wall time: 36.4 s\n"
     ]
    }
   ],
   "source": [
    "%%time\n",
    "mydata = pd.read_csv('WINNER.csv')"
   ]
  },
  {
   "cell_type": "code",
   "execution_count": 54,
   "metadata": {},
   "outputs": [],
   "source": [
    "frames = [n1, n2, n3,n4,n5,n6,n7,n8,n9,n10]\n",
    "record=pd.concat(frames)"
   ]
  },
  {
   "cell_type": "code",
   "execution_count": 55,
   "metadata": {},
   "outputs": [
    {
     "data": {
      "text/html": [
       "<div>\n",
       "<style scoped>\n",
       "    .dataframe tbody tr th:only-of-type {\n",
       "        vertical-align: middle;\n",
       "    }\n",
       "\n",
       "    .dataframe tbody tr th {\n",
       "        vertical-align: top;\n",
       "    }\n",
       "\n",
       "    .dataframe thead th {\n",
       "        text-align: right;\n",
       "    }\n",
       "</style>\n",
       "<table border=\"1\" class=\"dataframe\">\n",
       "  <thead>\n",
       "    <tr style=\"text-align: right;\">\n",
       "      <th></th>\n",
       "      <th>Unnamed: 0</th>\n",
       "      <th>Unnamed: 0.1</th>\n",
       "      <th>RECORD</th>\n",
       "      <th>BBLE</th>\n",
       "      <th>B</th>\n",
       "      <th>BLOCK</th>\n",
       "      <th>LOT</th>\n",
       "      <th>EASEMENT</th>\n",
       "      <th>OWNER</th>\n",
       "      <th>BLDGCL</th>\n",
       "      <th>...</th>\n",
       "      <th>AT/ST/B</th>\n",
       "      <th>FL/LT/all</th>\n",
       "      <th>FL/BLD/all</th>\n",
       "      <th>FL/STO/all</th>\n",
       "      <th>AL/LT/all</th>\n",
       "      <th>AL/BLD/all</th>\n",
       "      <th>AL/STO/all</th>\n",
       "      <th>AT/LT/all</th>\n",
       "      <th>AT/BLD/all</th>\n",
       "      <th>AT/STO/all</th>\n",
       "    </tr>\n",
       "  </thead>\n",
       "  <tbody>\n",
       "    <tr>\n",
       "      <th>632814</th>\n",
       "      <td>632814</td>\n",
       "      <td>632814</td>\n",
       "      <td>632815</td>\n",
       "      <td>4018410001</td>\n",
       "      <td>4</td>\n",
       "      <td>1841</td>\n",
       "      <td>1</td>\n",
       "      <td>NaN</td>\n",
       "      <td>THE 89 BONNIE REALTY</td>\n",
       "      <td>D4</td>\n",
       "      <td>...</td>\n",
       "      <td>0.189352</td>\n",
       "      <td>2.449235</td>\n",
       "      <td>0.063409</td>\n",
       "      <td>0.010915</td>\n",
       "      <td>2.332605</td>\n",
       "      <td>0.011536</td>\n",
       "      <td>0.001933</td>\n",
       "      <td>2.449235</td>\n",
       "      <td>0.063409</td>\n",
       "      <td>2.449235</td>\n",
       "    </tr>\n",
       "    <tr>\n",
       "      <th>565390</th>\n",
       "      <td>565390</td>\n",
       "      <td>565390</td>\n",
       "      <td>565391</td>\n",
       "      <td>3085900650</td>\n",
       "      <td>3</td>\n",
       "      <td>8590</td>\n",
       "      <td>650</td>\n",
       "      <td>NaN</td>\n",
       "      <td>JOINTLY OWNED PLAYGRO</td>\n",
       "      <td>W1</td>\n",
       "      <td>...</td>\n",
       "      <td>3.320169</td>\n",
       "      <td>0.622668</td>\n",
       "      <td>0.558567</td>\n",
       "      <td>0.650158</td>\n",
       "      <td>0.281922</td>\n",
       "      <td>0.102732</td>\n",
       "      <td>0.127836</td>\n",
       "      <td>0.622668</td>\n",
       "      <td>0.558566</td>\n",
       "      <td>0.622668</td>\n",
       "    </tr>\n",
       "    <tr>\n",
       "      <th>1067358</th>\n",
       "      <td>1067358</td>\n",
       "      <td>1067358</td>\n",
       "      <td>1067359</td>\n",
       "      <td>5078530084</td>\n",
       "      <td>5</td>\n",
       "      <td>7853</td>\n",
       "      <td>84</td>\n",
       "      <td>NaN</td>\n",
       "      <td>JOLINE ESTATES HOMEOW</td>\n",
       "      <td>V0</td>\n",
       "      <td>...</td>\n",
       "      <td>0.002069</td>\n",
       "      <td>1.879800</td>\n",
       "      <td>0.469376</td>\n",
       "      <td>0.469376</td>\n",
       "      <td>0.085674</td>\n",
       "      <td>0.025571</td>\n",
       "      <td>0.025571</td>\n",
       "      <td>0.085674</td>\n",
       "      <td>0.025571</td>\n",
       "      <td>0.085674</td>\n",
       "    </tr>\n",
       "    <tr>\n",
       "      <th>585116</th>\n",
       "      <td>585116</td>\n",
       "      <td>585116</td>\n",
       "      <td>585117</td>\n",
       "      <td>4004180113</td>\n",
       "      <td>4</td>\n",
       "      <td>418</td>\n",
       "      <td>113</td>\n",
       "      <td>NaN</td>\n",
       "      <td>41ST AVENUE REALTY AS</td>\n",
       "      <td>V1</td>\n",
       "      <td>...</td>\n",
       "      <td>0.044161</td>\n",
       "      <td>0.551978</td>\n",
       "      <td>0.000959</td>\n",
       "      <td>0.009045</td>\n",
       "      <td>1.750636</td>\n",
       "      <td>0.001467</td>\n",
       "      <td>0.015582</td>\n",
       "      <td>0.551978</td>\n",
       "      <td>0.000959</td>\n",
       "      <td>0.551978</td>\n",
       "    </tr>\n",
       "    <tr>\n",
       "      <th>776304</th>\n",
       "      <td>776304</td>\n",
       "      <td>776304</td>\n",
       "      <td>776305</td>\n",
       "      <td>4080070125</td>\n",
       "      <td>4</td>\n",
       "      <td>8007</td>\n",
       "      <td>125</td>\n",
       "      <td>NaN</td>\n",
       "      <td>SALITO, CHARLENE</td>\n",
       "      <td>B9</td>\n",
       "      <td>...</td>\n",
       "      <td>0.306497</td>\n",
       "      <td>1.819354</td>\n",
       "      <td>0.974931</td>\n",
       "      <td>0.636399</td>\n",
       "      <td>2.350176</td>\n",
       "      <td>1.266348</td>\n",
       "      <td>0.820301</td>\n",
       "      <td>2.063554</td>\n",
       "      <td>1.113828</td>\n",
       "      <td>2.063554</td>\n",
       "    </tr>\n",
       "    <tr>\n",
       "      <th>67127</th>\n",
       "      <td>67127</td>\n",
       "      <td>67127</td>\n",
       "      <td>67128</td>\n",
       "      <td>1011090100</td>\n",
       "      <td>1</td>\n",
       "      <td>1109</td>\n",
       "      <td>100</td>\n",
       "      <td>NaN</td>\n",
       "      <td>NaN</td>\n",
       "      <td>T9</td>\n",
       "      <td>...</td>\n",
       "      <td>3.364238</td>\n",
       "      <td>0.372409</td>\n",
       "      <td>0.662126</td>\n",
       "      <td>3.255420</td>\n",
       "      <td>0.548348</td>\n",
       "      <td>0.972548</td>\n",
       "      <td>3.647025</td>\n",
       "      <td>0.372409</td>\n",
       "      <td>0.662126</td>\n",
       "      <td>0.372409</td>\n",
       "    </tr>\n",
       "    <tr>\n",
       "      <th>585437</th>\n",
       "      <td>585437</td>\n",
       "      <td>585437</td>\n",
       "      <td>585438</td>\n",
       "      <td>4004590001</td>\n",
       "      <td>4</td>\n",
       "      <td>459</td>\n",
       "      <td>1</td>\n",
       "      <td>NaN</td>\n",
       "      <td>JOHN YOUNG ASSOCIATES</td>\n",
       "      <td>O9</td>\n",
       "      <td>...</td>\n",
       "      <td>1.784619</td>\n",
       "      <td>0.522394</td>\n",
       "      <td>0.077540</td>\n",
       "      <td>0.365530</td>\n",
       "      <td>0.648880</td>\n",
       "      <td>0.046423</td>\n",
       "      <td>0.246616</td>\n",
       "      <td>0.522394</td>\n",
       "      <td>0.077540</td>\n",
       "      <td>0.522394</td>\n",
       "    </tr>\n",
       "    <tr>\n",
       "      <th>85884</th>\n",
       "      <td>85884</td>\n",
       "      <td>85884</td>\n",
       "      <td>85885</td>\n",
       "      <td>1012540002</td>\n",
       "      <td>1</td>\n",
       "      <td>1254</td>\n",
       "      <td>2</td>\n",
       "      <td>NaN</td>\n",
       "      <td>NATIONAL RAILROAD ETA</td>\n",
       "      <td>U6</td>\n",
       "      <td>...</td>\n",
       "      <td>0.980369</td>\n",
       "      <td>0.118302</td>\n",
       "      <td>0.980205</td>\n",
       "      <td>0.980205</td>\n",
       "      <td>0.118302</td>\n",
       "      <td>0.980205</td>\n",
       "      <td>0.980205</td>\n",
       "      <td>0.118302</td>\n",
       "      <td>0.980205</td>\n",
       "      <td>0.118302</td>\n",
       "    </tr>\n",
       "    <tr>\n",
       "      <th>918202</th>\n",
       "      <td>918202</td>\n",
       "      <td>918202</td>\n",
       "      <td>918203</td>\n",
       "      <td>4151000600</td>\n",
       "      <td>4</td>\n",
       "      <td>15100</td>\n",
       "      <td>600</td>\n",
       "      <td>NaN</td>\n",
       "      <td>U S GOVERNMENT OWNRD</td>\n",
       "      <td>V9</td>\n",
       "      <td>...</td>\n",
       "      <td>163.346195</td>\n",
       "      <td>0.360859</td>\n",
       "      <td>0.508685</td>\n",
       "      <td>0.509548</td>\n",
       "      <td>0.370528</td>\n",
       "      <td>0.516792</td>\n",
       "      <td>0.517642</td>\n",
       "      <td>0.360861</td>\n",
       "      <td>0.508687</td>\n",
       "      <td>0.360861</td>\n",
       "    </tr>\n",
       "    <tr>\n",
       "      <th>920626</th>\n",
       "      <td>920626</td>\n",
       "      <td>920626</td>\n",
       "      <td>920627</td>\n",
       "      <td>4155770023</td>\n",
       "      <td>4</td>\n",
       "      <td>15577</td>\n",
       "      <td>23</td>\n",
       "      <td>NaN</td>\n",
       "      <td>PLUCHENIK, YAAKOV</td>\n",
       "      <td>B1</td>\n",
       "      <td>...</td>\n",
       "      <td>0.051463</td>\n",
       "      <td>0.501077</td>\n",
       "      <td>0.509818</td>\n",
       "      <td>0.488159</td>\n",
       "      <td>0.176873</td>\n",
       "      <td>0.293020</td>\n",
       "      <td>0.280652</td>\n",
       "      <td>0.102339</td>\n",
       "      <td>0.115960</td>\n",
       "      <td>0.102339</td>\n",
       "    </tr>\n",
       "  </tbody>\n",
       "</table>\n",
       "<p>10 rows × 93 columns</p>\n",
       "</div>"
      ],
      "text/plain": [
       "         Unnamed: 0  Unnamed: 0.1   RECORD        BBLE  B  BLOCK  LOT  \\\n",
       "632814       632814        632814   632815  4018410001  4   1841    1   \n",
       "565390       565390        565390   565391  3085900650  3   8590  650   \n",
       "1067358     1067358       1067358  1067359  5078530084  5   7853   84   \n",
       "585116       585116        585116   585117  4004180113  4    418  113   \n",
       "776304       776304        776304   776305  4080070125  4   8007  125   \n",
       "67127         67127         67127    67128  1011090100  1   1109  100   \n",
       "585437       585437        585437   585438  4004590001  4    459    1   \n",
       "85884         85884         85884    85885  1012540002  1   1254    2   \n",
       "918202       918202        918202   918203  4151000600  4  15100  600   \n",
       "920626       920626        920626   920627  4155770023  4  15577   23   \n",
       "\n",
       "        EASEMENT                  OWNER BLDGCL     ...         AT/ST/B  \\\n",
       "632814       NaN   THE 89 BONNIE REALTY     D4     ...        0.189352   \n",
       "565390       NaN  JOINTLY OWNED PLAYGRO     W1     ...        3.320169   \n",
       "1067358      NaN  JOLINE ESTATES HOMEOW     V0     ...        0.002069   \n",
       "585116       NaN  41ST AVENUE REALTY AS     V1     ...        0.044161   \n",
       "776304       NaN       SALITO, CHARLENE     B9     ...        0.306497   \n",
       "67127        NaN                    NaN     T9     ...        3.364238   \n",
       "585437       NaN  JOHN YOUNG ASSOCIATES     O9     ...        1.784619   \n",
       "85884        NaN  NATIONAL RAILROAD ETA     U6     ...        0.980369   \n",
       "918202       NaN   U S GOVERNMENT OWNRD     V9     ...      163.346195   \n",
       "920626       NaN      PLUCHENIK, YAAKOV     B1     ...        0.051463   \n",
       "\n",
       "         FL/LT/all  FL/BLD/all FL/STO/all  AL/LT/all  AL/BLD/all  AL/STO/all  \\\n",
       "632814    2.449235    0.063409   0.010915   2.332605    0.011536    0.001933   \n",
       "565390    0.622668    0.558567   0.650158   0.281922    0.102732    0.127836   \n",
       "1067358   1.879800    0.469376   0.469376   0.085674    0.025571    0.025571   \n",
       "585116    0.551978    0.000959   0.009045   1.750636    0.001467    0.015582   \n",
       "776304    1.819354    0.974931   0.636399   2.350176    1.266348    0.820301   \n",
       "67127     0.372409    0.662126   3.255420   0.548348    0.972548    3.647025   \n",
       "585437    0.522394    0.077540   0.365530   0.648880    0.046423    0.246616   \n",
       "85884     0.118302    0.980205   0.980205   0.118302    0.980205    0.980205   \n",
       "918202    0.360859    0.508685   0.509548   0.370528    0.516792    0.517642   \n",
       "920626    0.501077    0.509818   0.488159   0.176873    0.293020    0.280652   \n",
       "\n",
       "         AT/LT/all  AT/BLD/all  AT/STO/all  \n",
       "632814    2.449235    0.063409    2.449235  \n",
       "565390    0.622668    0.558566    0.622668  \n",
       "1067358   0.085674    0.025571    0.085674  \n",
       "585116    0.551978    0.000959    0.551978  \n",
       "776304    2.063554    1.113828    2.063554  \n",
       "67127     0.372409    0.662126    0.372409  \n",
       "585437    0.522394    0.077540    0.522394  \n",
       "85884     0.118302    0.980205    0.118302  \n",
       "918202    0.360861    0.508687    0.360861  \n",
       "920626    0.102339    0.115960    0.102339  \n",
       "\n",
       "[10 rows x 93 columns]"
      ]
     },
     "execution_count": 55,
     "metadata": {},
     "output_type": "execute_result"
    }
   ],
   "source": [
    "record"
   ]
  },
  {
   "cell_type": "code",
   "execution_count": 56,
   "metadata": {},
   "outputs": [],
   "source": [
    "record.to_csv('top10.csv')"
   ]
  },
  {
   "cell_type": "code",
   "execution_count": null,
   "metadata": {},
   "outputs": [],
   "source": []
  }
 ],
 "metadata": {
  "kernelspec": {
   "display_name": "Python 3",
   "language": "python",
   "name": "python3"
  },
  "language_info": {
   "codemirror_mode": {
    "name": "ipython",
    "version": 3
   },
   "file_extension": ".py",
   "mimetype": "text/x-python",
   "name": "python",
   "nbconvert_exporter": "python",
   "pygments_lexer": "ipython3",
   "version": "3.7.1"
  }
 },
 "nbformat": 4,
 "nbformat_minor": 2
}
